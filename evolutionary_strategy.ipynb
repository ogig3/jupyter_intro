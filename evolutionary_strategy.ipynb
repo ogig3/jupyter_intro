{
  "nbformat": 4,
  "nbformat_minor": 0,
  "metadata": {
    "colab": {
      "name": "Untitled13.ipynb",
      "provenance": [],
      "collapsed_sections": []
    },
    "kernelspec": {
      "name": "python3",
      "display_name": "Python 3"
    },
    "language_info": {
      "name": "python"
    }
  },
  "cells": [
    {
      "cell_type": "markdown",
      "metadata": {
        "id": "lGwvw-bxyZVR"
      },
      "source": [
        "# Evolutionary Strategy で Neural Network を学習させる"
      ]
    },
    {
      "cell_type": "code",
      "metadata": {
        "id": "lara7zS8j1jC"
      },
      "source": [
        "# gym の読み込み\n",
        "import gym"
      ],
      "execution_count": 1,
      "outputs": []
    },
    {
      "cell_type": "markdown",
      "metadata": {
        "id": "w7Z_gO45kwy6"
      },
      "source": [
        "## openai gym の基本的な動かし方"
      ]
    },
    {
      "cell_type": "code",
      "metadata": {
        "colab": {
          "base_uri": "https://localhost:8080/"
        },
        "id": "HMRWb_2yj8tT",
        "outputId": "584aa68a-ee2a-4bc9-f9d8-ce02c59d534a"
      },
      "source": [
        "env = gym.make('CartPole-v0')\n",
        "\n",
        "# 初期化\n",
        "env.reset()\n",
        "\n",
        "# 時間ステップを進める\n",
        "for _ in range(10):\n",
        "  # env.render() # Google Colab では使えません\n",
        "  action = env.action_space.sample() # ランダムに用意された行動から一つ選ぶ\n",
        "  observation, reward, done, info = env.step(action)\n",
        "  print(observation, reward, done)\n",
        "\n",
        "env.close()"
      ],
      "execution_count": 2,
      "outputs": [
        {
          "output_type": "stream",
          "text": [
            "[-0.03419326  0.17148673  0.02054254 -0.30995137] 1.0 False\n",
            "[-0.03076353 -0.02392179  0.01434352 -0.01086135] 1.0 False\n",
            "[-0.03124197 -0.21924648  0.01412629  0.2863124 ] 1.0 False\n",
            "[-0.03562689 -0.41456701  0.01985254  0.58341696] 1.0 False\n",
            "[-0.04391824 -0.60996138  0.03152088  0.88228701] 1.0 False\n",
            "[-0.05611746 -0.4152814   0.04916662  0.5996777 ] 1.0 False\n",
            "[-0.06442309 -0.61105549  0.06116017  0.90743313] 1.0 False\n",
            "[-0.0766442  -0.41681247  0.07930883  0.63458326] 1.0 False\n",
            "[-0.08498045 -0.22288111  0.0920005   0.36789294] 1.0 False\n",
            "[-0.08943807 -0.02917864  0.09935836  0.10557802] 1.0 False\n"
          ],
          "name": "stdout"
        }
      ]
    },
    {
      "cell_type": "markdown",
      "metadata": {
        "id": "_06I9rmMlIBR"
      },
      "source": [
        "## ニューラルネットワークのパラメータ"
      ]
    },
    {
      "cell_type": "code",
      "metadata": {
        "colab": {
          "base_uri": "https://localhost:8080/"
        },
        "id": "JF1tAX4hlw2h",
        "outputId": "eaa36fb9-d8e3-4ed6-aa8f-0dce654aabb2"
      },
      "source": [
        "env.action_space.n"
      ],
      "execution_count": 8,
      "outputs": [
        {
          "output_type": "execute_result",
          "data": {
            "text/plain": [
              "2"
            ]
          },
          "metadata": {
            "tags": []
          },
          "execution_count": 8
        }
      ]
    },
    {
      "cell_type": "code",
      "metadata": {
        "id": "XUtKlxELkjO5"
      },
      "source": [
        "import gym\n",
        "import numpy as np\n",
        "\n",
        "env = gym.make('CartPole-v0')\n",
        "pvariance = 0.1\n",
        "ppvariance = 0.02\n",
        "\n",
        "# the number of inputs and outputs depends on the problem\n",
        "# we assume that observations consist of vectors of continuous value\n",
        "# and that actions can be vectors of continuous values or discrete actions\n",
        "\n",
        "ninputs = env.observation_space.shape[0] # 4\n",
        "if (isinstance(env.action_space, gym.spaces.box.Box)):\n",
        "    noutputs = env.action_space.shape[0]\n",
        "else:\n",
        "    noutputs = env.action_space.n\n",
        "# initialize the training parameters randomly by using a gaussian\n",
        "# distribution with average 0.0 and variance 0.1\n",
        "# biases (thresholds) are initialized to 0.0\n",
        "# variance of initial parameters\n",
        "# variance of perturbations\n",
        "# number of internal neurons\n",
        "ninputs  = 4\n",
        "noutputs = 2\n",
        "nhiddens = 5\n",
        "W1 = np.random.randn(nhiddens,ninputs) * pvariance\n",
        "# randn は平均0 分散1の乱数を生成する関数\n",
        "W2 = np.random.randn(noutputs, nhiddens) * pvariance\n",
        "\n",
        "b1 = np.zeros(shape=(nhiddens, 1))\n",
        "\n",
        "b2 = np.zeros(shape=(noutputs, 1))\n"
      ],
      "execution_count": 17,
      "outputs": []
    },
    {
      "cell_type": "code",
      "metadata": {
        "colab": {
          "base_uri": "https://localhost:8080/"
        },
        "id": "cqtoiIwTmm8E",
        "outputId": "3ed1d242-7561-4f82-c7e8-fd45e40cbec7"
      },
      "source": [
        "import numpy as np\n",
        "np.random.randn(2,2)"
      ],
      "execution_count": 11,
      "outputs": [
        {
          "output_type": "execute_result",
          "data": {
            "text/plain": [
              "array([[-0.44373096, -0.60745989],\n",
              "       [-0.11280379, -1.09807972]])"
            ]
          },
          "metadata": {
            "tags": []
          },
          "execution_count": 11
        }
      ]
    },
    {
      "cell_type": "code",
      "metadata": {
        "colab": {
          "base_uri": "https://localhost:8080/"
        },
        "id": "uXfzS85mmpfX",
        "outputId": "378153da-1658-4bee-dd01-19cc7e72f396"
      },
      "source": [
        "b1 = np.zeros(shape=(5, 1))\n",
        "print(b1)"
      ],
      "execution_count": 13,
      "outputs": [
        {
          "output_type": "stream",
          "text": [
            "[[0.]\n",
            " [0.]\n",
            " [0.]\n",
            " [0.]\n",
            " [0.]]\n"
          ],
          "name": "stdout"
        }
      ]
    },
    {
      "cell_type": "markdown",
      "metadata": {
        "id": "7gmuVxpSoPs8"
      },
      "source": [
        "ニューラルネットワークの層ごとの計算\n",
        "\n",
        "$$\n",
        "Z_1 = W_1 x + b_1 \\\\\n",
        "A_1 = f(Z_1) \\\\\n",
        "Z_2 = W_2 A_1 + b_2 \\\\\n",
        "A_2 = f(Z_2)\n",
        "$$"
      ]
    },
    {
      "cell_type": "code",
      "metadata": {
        "id": "Sd-470FIn68y"
      },
      "source": [
        "\n",
        "# convert the observation array into a matrix with 1 column and ninputs rows\n",
        "observation.resize(ninputs,1)\n",
        "# compute the netinput of the first layer of neurons\n",
        "Z1 = np.dot(W1, observation) + b1\n",
        "# compute the activation of the first layer of neurons with the tanh function\n",
        "A1 = np.tanh(Z1)\n",
        "# compute the netinput of the second layer of neurons\n",
        "Z2 = np.dot(W2, A1) + b2\n",
        "# compute the activation of the second layer of neurons with the tanh function\n",
        "A2 = np.tanh(Z2)\n",
        "# if the action is discrete\n",
        "#  select the action that corresponds to the most activated unit\n",
        "if (isinstance(env.action_space, gym.spaces.box.Box)):\n",
        "    action = A2\n",
        "else:\n",
        "    action = np.argmax(A2) "
      ],
      "execution_count": 18,
      "outputs": []
    },
    {
      "cell_type": "code",
      "metadata": {
        "colab": {
          "base_uri": "https://localhost:8080/"
        },
        "id": "D0oWuosmpyGp",
        "outputId": "bfcf0632-1dc5-4d13-8548-728046cf430c"
      },
      "source": [
        "# np.argmax は最も大きい数のインデックスを返す\n",
        "a = np.array([1,2,8,100,3,4])\n",
        "np.argmax(a)"
      ],
      "execution_count": 35,
      "outputs": [
        {
          "output_type": "execute_result",
          "data": {
            "text/plain": [
              "3"
            ]
          },
          "metadata": {
            "tags": []
          },
          "execution_count": 35
        }
      ]
    },
    {
      "cell_type": "code",
      "metadata": {
        "colab": {
          "base_uri": "https://localhost:8080/"
        },
        "id": "ymUBNHkcqLuq",
        "outputId": "13a44e1c-dd5b-41f0-9907-3ac0c048e99e"
      },
      "source": [
        "print(A2) # 行動に応じたニューロン\n",
        "print(np.argmax(A2)) #値の大きい方は？"
      ],
      "execution_count": 20,
      "outputs": [
        {
          "output_type": "stream",
          "text": [
            "[[-1.7498395e-03]\n",
            " [ 4.8318148e-05]]\n",
            "1\n"
          ],
          "name": "stdout"
        }
      ]
    },
    {
      "cell_type": "code",
      "metadata": {
        "colab": {
          "base_uri": "https://localhost:8080/",
          "height": 282
        },
        "id": "xYDFddRBowUy",
        "outputId": "76eb6c61-24d1-40cf-837d-198a3304b4cb"
      },
      "source": [
        "# ハイパボリックタンジェント関数\n",
        "\n",
        "import matplotlib.pyplot as plt\n",
        "\n",
        "x = np.linspace(-3,3,100) # -3 から 3 まで100個の数字を用意してください\n",
        "y = np.tanh(x)\n",
        "\n",
        "plt.plot(x,y)"
      ],
      "execution_count": 34,
      "outputs": [
        {
          "output_type": "execute_result",
          "data": {
            "text/plain": [
              "[<matplotlib.lines.Line2D at 0x7f9f6f8a9310>]"
            ]
          },
          "metadata": {
            "tags": []
          },
          "execution_count": 34
        },
        {
          "output_type": "display_data",
          "data": {
            "image/png": "[encoded data removed]",
            "text/plain": [
              "<Figure size 432x288 with 1 Axes>"
            ]
          },
          "metadata": {
            "tags": [],
            "needs_background": "light"
          }
        }
      ]
    },
    {
      "cell_type": "markdown",
      "metadata": {
        "id": "HPDDpuqhrSvS"
      },
      "source": [
        "## ニューラルネットが決めた行動で環境を動かす"
      ]
    },
    {
      "cell_type": "code",
      "metadata": {
        "id": "N3jJ50zJrwAm"
      },
      "source": [
        "def calc_action(obs):\n",
        "  # convert the observation array into a matrix with 1 column and ninputs rows\n",
        "  observation.resize(ninputs,1)\n",
        "  # compute the netinput of the first layer of neurons\n",
        "  Z1 = np.dot(W1, observation) + b1\n",
        "  # compute the activation of the first layer of neurons with the tanh function\n",
        "  A1 = np.tanh(Z1)\n",
        "  # compute the netinput of the second layer of neurons\n",
        "  Z2 = np.dot(W2, A1) + b2\n",
        "  # compute the activation of the second layer of neurons with the tanh function\n",
        "  A2 = np.tanh(Z2)\n",
        "  # if the action is discrete\n",
        "  #  select the action that corresponds to the most activated unit\n",
        "  if (isinstance(env.action_space, gym.spaces.box.Box)):\n",
        "      action = A2\n",
        "  else:\n",
        "      action = np.argmax(A2)   \n",
        "  \n",
        "  return action"
      ],
      "execution_count": 21,
      "outputs": []
    },
    {
      "cell_type": "code",
      "metadata": {
        "id": "3xjw_ajio7N3"
      },
      "source": [
        "env = gym.make('CartPole-v0')\n",
        "\n",
        "# 初期化\n",
        "observation = env.reset()\n",
        "\n",
        "# 時間ステップを進める\n",
        "reward_all = 0 # reward の和を記録する変数\n",
        "for _ in range(200):\n",
        "  # env.render() # Google Colab では使えません\n",
        "  action = calc_action(observation)\n",
        "  observation, reward, done, info = env.step(action)\n",
        "  reward_all += reward\n",
        "  if done==True: #棒が倒れたらそこで終わり\n",
        "    break\n",
        "\n",
        "env.close()"
      ],
      "execution_count": 22,
      "outputs": []
    },
    {
      "cell_type": "markdown",
      "metadata": {
        "id": "42khGKXSucS5"
      },
      "source": [
        "## 環境の実行を関数化する"
      ]
    },
    {
      "cell_type": "code",
      "metadata": {
        "id": "tboEreGHsFJV"
      },
      "source": [
        "def calc_action(obs, W1, W2, b1, b2):\n",
        "  # convert the observation array into a matrix with 1 column and ninputs rows\n",
        "  observation.resize(ninputs,1)\n",
        "  # compute the netinput of the first layer of neurons\n",
        "  Z1 = np.dot(W1, observation) + b1\n",
        "  # compute the activation of the first layer of neurons with the tanh function\n",
        "  A1 = np.tanh(Z1)\n",
        "  # compute the netinput of the second layer of neurons\n",
        "  Z2 = np.dot(W2, A1) + b2\n",
        "  # compute the activation of the second layer of neurons with the tanh function\n",
        "  A2 = np.tanh(Z2)\n",
        "  # if the action is discrete\n",
        "  #  select the action that corresponds to the most activated unit\n",
        "  if (isinstance(env.action_space, gym.spaces.box.Box)):\n",
        "      action = A2\n",
        "  else:\n",
        "      action = np.argmax(A2)   \n",
        "  \n",
        "  return action"
      ],
      "execution_count": 30,
      "outputs": []
    },
    {
      "cell_type": "code",
      "metadata": {
        "id": "5qc0EOogunUr"
      },
      "source": [
        "def func_F(W1, W2, b1, b2):\n",
        "\n",
        "\n",
        "  env = gym.make('CartPole-v0')\n",
        "\n",
        "  # 初期化\n",
        "  observation = env.reset()\n",
        "\n",
        "  # 時間ステップを進める\n",
        "  reward_all = 0\n",
        "  for _ in range(200):\n",
        "    # env.render() # Google Colab では使えません\n",
        "    action = calc_action(observation, W1, W2, b1, b2)\n",
        "    observation, reward, done, info = env.step(action)\n",
        "    reward_all += reward\n",
        "    if done==True:\n",
        "      break\n",
        "  \n",
        "  return reward_all\n",
        "\n",
        "env.close()"
      ],
      "execution_count": 31,
      "outputs": []
    },
    {
      "cell_type": "code",
      "metadata": {
        "id": "mDR0g2JOvq74"
      },
      "source": [
        "# パラメータのための行列 theta\n",
        "n_population = 10\n",
        "theta = np.random.randn(n_population, 37)"
      ],
      "execution_count": 23,
      "outputs": []
    },
    {
      "cell_type": "code",
      "metadata": {
        "colab": {
          "base_uri": "https://localhost:8080/"
        },
        "id": "jNX-Td5Dv8PX",
        "outputId": "c1e7baec-9c73-4c50-c03b-ee8ac3ecf7c2"
      },
      "source": [
        "theta[0]"
      ],
      "execution_count": 24,
      "outputs": [
        {
          "output_type": "execute_result",
          "data": {
            "text/plain": [
              "array([-1.17873719,  0.62938172, -0.00862496,  0.75447647, -1.09330439,\n",
              "       -0.08567218,  0.86732047, -0.52671125,  0.31135714,  0.42252918,\n",
              "        0.15203462, -2.03775323, -0.27521688,  0.09170671,  0.64958522,\n",
              "        0.34159988, -0.89239471,  0.04560659, -0.14189205, -0.15372331,\n",
              "        0.93520041,  0.13433121, -0.72332149,  0.37065918, -0.19759117,\n",
              "       -2.23063157,  0.53663458, -0.03522272,  1.57387912, -1.48265637,\n",
              "        1.11386551, -0.4037048 ,  1.75401261, -0.37063821,  0.95423953,\n",
              "        0.52573419,  2.23378893])"
            ]
          },
          "metadata": {
            "tags": []
          },
          "execution_count": 24
        }
      ]
    },
    {
      "cell_type": "code",
      "metadata": {
        "colab": {
          "base_uri": "https://localhost:8080/"
        },
        "id": "eV_F0KbYv93P",
        "outputId": "df05f449-4666-4771-ee21-9e2b8e8ededc"
      },
      "source": [
        "W1 = theta[0,0:20].reshape(5,4)\n",
        "W1"
      ],
      "execution_count": 25,
      "outputs": [
        {
          "output_type": "execute_result",
          "data": {
            "text/plain": [
              "array([[-1.17873719,  0.62938172, -0.00862496,  0.75447647],\n",
              "       [-1.09330439, -0.08567218,  0.86732047, -0.52671125],\n",
              "       [ 0.31135714,  0.42252918,  0.15203462, -2.03775323],\n",
              "       [-0.27521688,  0.09170671,  0.64958522,  0.34159988],\n",
              "       [-0.89239471,  0.04560659, -0.14189205, -0.15372331]])"
            ]
          },
          "metadata": {
            "tags": []
          },
          "execution_count": 25
        }
      ]
    },
    {
      "cell_type": "code",
      "metadata": {
        "id": "rE5M3M86wYsd"
      },
      "source": [
        "# i番の個体のパラメータを取り出したい\n",
        "i = 3\n",
        "W1 = theta[i,0:20].reshape(5,4)\n",
        "W2 = theta[i,20:30].reshape(2,5)\n",
        "b1 = theta[i,30:35].reshape(5,1)\n",
        "b2 = theta[i,35:37].reshape(2,1)"
      ],
      "execution_count": 26,
      "outputs": []
    },
    {
      "cell_type": "code",
      "metadata": {
        "colab": {
          "base_uri": "https://localhost:8080/"
        },
        "id": "-Zr00oOBxA3S",
        "outputId": "f70b3f92-6fbc-4337-bd74-d469e809cff4"
      },
      "source": [
        "func_F(W1,W2,b1,b2)"
      ],
      "execution_count": 32,
      "outputs": [
        {
          "output_type": "execute_result",
          "data": {
            "text/plain": [
              "10.0"
            ]
          },
          "metadata": {
            "tags": []
          },
          "execution_count": 32
        }
      ]
    },
    {
      "cell_type": "code",
      "metadata": {
        "colab": {
          "base_uri": "https://localhost:8080/"
        },
        "id": "D_zXboH7xUng",
        "outputId": "7c4474cc-74a8-4bfd-e728-8e3a6018de21"
      },
      "source": [
        "# ランク付のための関数\n",
        "x = np.array([3,1,6,4])\n",
        "np.argsort(x)"
      ],
      "execution_count": 33,
      "outputs": [
        {
          "output_type": "execute_result",
          "data": {
            "text/plain": [
              "array([1, 0, 3, 2])"
            ]
          },
          "metadata": {
            "tags": []
          },
          "execution_count": 33
        }
      ]
    },
    {
      "cell_type": "code",
      "metadata": {
        "id": "GwXF0c9XxuGS"
      },
      "source": [
        ""
      ],
      "execution_count": null,
      "outputs": []
    },
    {
      "cell_type": "markdown",
      "metadata": {
        "id": "djICuVzfzaRs"
      },
      "source": [
        "## 進化的手法でNNのパラメータを学習させる"
      ]
    },
    {
      "cell_type": "markdown",
      "metadata": {
        "id": "KlmN-gAD0-Ms"
      },
      "source": [
        "上のプログラムを参考に，進化的手法によるNNのパラメータ学習のプログラムを完成させてください．\n",
        "\n",
        "パラメータの初期値は平均０，分散1の乱数で初期化していますが，うまくいかない場合には教科書のように初期値を設定してください．"
      ]
    },
    {
      "cell_type": "code",
      "metadata": {
        "id": "2phvfG-Bzd9T"
      },
      "source": [
        "# パラメータ theta　の初期化\n",
        "n_population = 10\n",
        "\n",
        "theta = np.random.randn(n_population, 37)\n",
        "\n",
        "\n",
        "## 世代のループ\n",
        "for g in range(100):\n",
        "  ## 個体のループ\n",
        "  eval_score = np.zeros(n_popuration)\n",
        "  for i in range(n_population):\n",
        "    W1 = theta[i,0:20].reshape(5,4)\n",
        "    W2 = theta[i,20:30].reshape(2,5)\n",
        "    b1 = theta[i,30:35].reshape(5,1)\n",
        "    b2 = theta[i,35:37].reshape(2,1)\n",
        "\n",
        "    XXXXXXXXXXXXXXXXXXXXXXX\n",
        "    xxxxxxxxxxxxxxxxxxxxxxx\n",
        "\n",
        "  ## 遺伝子の入れ替え\n",
        "  xxxxxxxxxxxxxxxxxxxxxxx\n",
        "  XXXXXXXXXXXXXXXXXXXXXXX\n",
        "  xxxxxxxxxxxxxxxxxxxxxxx\n",
        "\n",
        "  ## もし評価がよければ終了\n",
        "  xxxxxxxxxxxxxxxxxxxxxxx\n",
        "  xxxxxxxxxxxxxxxxxxxxxxx\n",
        "  xxxxxxxxxxxxxxxxxxxxxxx\n"
      ],
      "execution_count": null,
      "outputs": []
    }
  ]
}